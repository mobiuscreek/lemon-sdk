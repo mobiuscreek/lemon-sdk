{
 "cells": [
  {
   "cell_type": "markdown",
   "metadata": {},
   "source": []
  },
  {
   "cell_type": "code",
   "execution_count": 1,
   "metadata": {},
   "outputs": [],
   "source": [
    "from lemon.core.account import Account\n",
    "from lemon.core.market import MarketData\n",
    "from lemon.core.orders import  Order\n",
    "from lemon.client.auth import credentials"
   ]
  },
  {
   "cell_type": "code",
   "execution_count": 2,
   "metadata": {},
   "outputs": [],
   "source": [
    "cred = credentials()\n",
    "acc = Account(credentials=cred)\n"
   ]
  },
  {
   "cell_type": "code",
   "execution_count": 3,
   "metadata": {},
   "outputs": [
    {
     "data": {
      "text/plain": [
       "[Space(Name: MasterStrategy, Buying_power: 500000000.0, Risk_limit: 500000000.0, Trading_type: paper,\n",
       " Space(Name: Default, Buying_power: 100000000.0, Risk_limit: 100000000.0, Trading_type: paper]"
      ]
     },
     "execution_count": 3,
     "metadata": {},
     "output_type": "execute_result"
    }
   ],
   "source": [
    "acc.spaces"
   ]
  },
  {
   "cell_type": "code",
   "execution_count": 4,
   "metadata": {},
   "outputs": [],
   "source": [
    "m = MarketData()\n"
   ]
  },
  {
   "cell_type": "code",
   "execution_count": 5,
   "metadata": {},
   "outputs": [
    {
     "name": "stdout",
     "output_type": "stream",
     "text": [
      "Collecting 504 results....\n"
     ]
    },
    {
     "data": {
      "text/html": [
       "<div>\n",
       "<style scoped>\n",
       "    .dataframe tbody tr th:only-of-type {\n",
       "        vertical-align: middle;\n",
       "    }\n",
       "\n",
       "    .dataframe tbody tr th {\n",
       "        vertical-align: top;\n",
       "    }\n",
       "\n",
       "    .dataframe thead th {\n",
       "        text-align: right;\n",
       "    }\n",
       "</style>\n",
       "<table border=\"1\" class=\"dataframe\">\n",
       "  <thead>\n",
       "    <tr style=\"text-align: right;\">\n",
       "      <th></th>\n",
       "      <th>isin</th>\n",
       "      <th>wkn</th>\n",
       "      <th>name</th>\n",
       "      <th>title</th>\n",
       "      <th>symbol</th>\n",
       "      <th>type</th>\n",
       "      <th>venues</th>\n",
       "    </tr>\n",
       "  </thead>\n",
       "  <tbody>\n",
       "    <tr>\n",
       "      <th>0</th>\n",
       "      <td>LU1291100664</td>\n",
       "      <td>A2ADBR</td>\n",
       "      <td>BNPPE-MSCI EXUKXCW UECEO</td>\n",
       "      <td>BNP P.EASY-MSCI EU.EX UK EX CW</td>\n",
       "      <td>EEXU</td>\n",
       "      <td>etf</td>\n",
       "      <td>[{'name': 'Börse München - Gettex', 'title': '...</td>\n",
       "    </tr>\n",
       "    <tr>\n",
       "      <th>1</th>\n",
       "      <td>DE000ETFL086</td>\n",
       "      <td>ETFL08</td>\n",
       "      <td>DK MSCI EUROPE LC</td>\n",
       "      <td>DEKA MSCI EUROPE LC UCITS ETF</td>\n",
       "      <td>EL4H</td>\n",
       "      <td>etf</td>\n",
       "      <td>[{'name': 'Börse München - Gettex', 'title': '...</td>\n",
       "    </tr>\n",
       "    <tr>\n",
       "      <th>2</th>\n",
       "      <td>DE000ETFL102</td>\n",
       "      <td>ETFL10</td>\n",
       "      <td>DK MSCI JAPAN LC</td>\n",
       "      <td>DEKA MSCI JAPAN LC UCITS ETF</td>\n",
       "      <td>EL4J</td>\n",
       "      <td>etf</td>\n",
       "      <td>[{'name': 'Börse München - Gettex', 'title': '...</td>\n",
       "    </tr>\n",
       "    <tr>\n",
       "      <th>3</th>\n",
       "      <td>DE000ETFL268</td>\n",
       "      <td>ETFL26</td>\n",
       "      <td>DK MSCI USA</td>\n",
       "      <td>DEKA MSCI USA UCITS ETF</td>\n",
       "      <td>EL4Z</td>\n",
       "      <td>etf</td>\n",
       "      <td>[{'name': 'Börse München - Gettex', 'title': '...</td>\n",
       "    </tr>\n",
       "    <tr>\n",
       "      <th>4</th>\n",
       "      <td>DE000ETFL284</td>\n",
       "      <td>ETFL28</td>\n",
       "      <td>DK MSCI EUROPE</td>\n",
       "      <td>DEKA MSCI EUROPE UCITS ETF</td>\n",
       "      <td>EL42</td>\n",
       "      <td>etf</td>\n",
       "      <td>[{'name': 'Börse München - Gettex', 'title': '...</td>\n",
       "    </tr>\n",
       "    <tr>\n",
       "      <th>...</th>\n",
       "      <td>...</td>\n",
       "      <td>...</td>\n",
       "      <td>...</td>\n",
       "      <td>...</td>\n",
       "      <td>...</td>\n",
       "      <td>...</td>\n",
       "      <td>...</td>\n",
       "    </tr>\n",
       "    <tr>\n",
       "      <th>499</th>\n",
       "      <td>LU1753045415</td>\n",
       "      <td>A2JFSU</td>\n",
       "      <td>BNPPE-M.EUR.SRI SS5 DIS</td>\n",
       "      <td>BNPPE-MSCI EUR.SRI S-SER.5%C.</td>\n",
       "      <td>ZSRI</td>\n",
       "      <td>etf</td>\n",
       "      <td>[{'name': 'Börse München - Gettex', 'title': '...</td>\n",
       "    </tr>\n",
       "    <tr>\n",
       "      <th>500</th>\n",
       "      <td>LU1923627332</td>\n",
       "      <td>LYX01C</td>\n",
       "      <td>MUL-LYX.MSCI RUSSI.DIS.LS</td>\n",
       "      <td>M.U.L.-LYXOR MSCI RUSSI.UC.ETF</td>\n",
       "      <td>RUSL</td>\n",
       "      <td>etf</td>\n",
       "      <td>[{'name': 'Börse München - Gettex', 'title': '...</td>\n",
       "    </tr>\n",
       "    <tr>\n",
       "      <th>501</th>\n",
       "      <td>LU2109787049</td>\n",
       "      <td>A2PZC5</td>\n",
       "      <td>AIS-A.MSCI WESGUS UETFDRC</td>\n",
       "      <td>AIS-AMUNDI MSCI EM.ESG U.SEL.</td>\n",
       "      <td>SBIM</td>\n",
       "      <td>etf</td>\n",
       "      <td>[{'name': 'Börse München - Gettex', 'title': '...</td>\n",
       "    </tr>\n",
       "    <tr>\n",
       "      <th>502</th>\n",
       "      <td>LU2153616326</td>\n",
       "      <td>A2P22T</td>\n",
       "      <td>AMUNDI MUSESGLS ETFDR HEO</td>\n",
       "      <td>AIS-AMUNDI MSCI US.ESG LD.SEL.</td>\n",
       "      <td>SADH</td>\n",
       "      <td>etf</td>\n",
       "      <td>[{'name': 'Börse München - Gettex', 'title': '...</td>\n",
       "    </tr>\n",
       "    <tr>\n",
       "      <th>503</th>\n",
       "      <td>LU2233156749</td>\n",
       "      <td>A2QEUK</td>\n",
       "      <td>AIS-I.M.JAP.SRI UC.E.DRYN</td>\n",
       "      <td>AIS-INDEX MSCI JAPAN SRI</td>\n",
       "      <td>JARI</td>\n",
       "      <td>etf</td>\n",
       "      <td>[{'name': 'Börse München - Gettex', 'title': '...</td>\n",
       "    </tr>\n",
       "  </tbody>\n",
       "</table>\n",
       "<p>504 rows × 7 columns</p>\n",
       "</div>"
      ],
      "text/plain": [
       "             isin     wkn                       name  \\\n",
       "0    LU1291100664  A2ADBR   BNPPE-MSCI EXUKXCW UECEO   \n",
       "1    DE000ETFL086  ETFL08          DK MSCI EUROPE LC   \n",
       "2    DE000ETFL102  ETFL10           DK MSCI JAPAN LC   \n",
       "3    DE000ETFL268  ETFL26                DK MSCI USA   \n",
       "4    DE000ETFL284  ETFL28             DK MSCI EUROPE   \n",
       "..            ...     ...                        ...   \n",
       "499  LU1753045415  A2JFSU    BNPPE-M.EUR.SRI SS5 DIS   \n",
       "500  LU1923627332  LYX01C  MUL-LYX.MSCI RUSSI.DIS.LS   \n",
       "501  LU2109787049  A2PZC5  AIS-A.MSCI WESGUS UETFDRC   \n",
       "502  LU2153616326  A2P22T  AMUNDI MUSESGLS ETFDR HEO   \n",
       "503  LU2233156749  A2QEUK  AIS-I.M.JAP.SRI UC.E.DRYN   \n",
       "\n",
       "                              title symbol type  \\\n",
       "0    BNP P.EASY-MSCI EU.EX UK EX CW   EEXU  etf   \n",
       "1     DEKA MSCI EUROPE LC UCITS ETF   EL4H  etf   \n",
       "2      DEKA MSCI JAPAN LC UCITS ETF   EL4J  etf   \n",
       "3           DEKA MSCI USA UCITS ETF   EL4Z  etf   \n",
       "4        DEKA MSCI EUROPE UCITS ETF   EL42  etf   \n",
       "..                              ...    ...  ...   \n",
       "499   BNPPE-MSCI EUR.SRI S-SER.5%C.   ZSRI  etf   \n",
       "500  M.U.L.-LYXOR MSCI RUSSI.UC.ETF   RUSL  etf   \n",
       "501   AIS-AMUNDI MSCI EM.ESG U.SEL.   SBIM  etf   \n",
       "502  AIS-AMUNDI MSCI US.ESG LD.SEL.   SADH  etf   \n",
       "503        AIS-INDEX MSCI JAPAN SRI   JARI  etf   \n",
       "\n",
       "                                                venues  \n",
       "0    [{'name': 'Börse München - Gettex', 'title': '...  \n",
       "1    [{'name': 'Börse München - Gettex', 'title': '...  \n",
       "2    [{'name': 'Börse München - Gettex', 'title': '...  \n",
       "3    [{'name': 'Börse München - Gettex', 'title': '...  \n",
       "4    [{'name': 'Börse München - Gettex', 'title': '...  \n",
       "..                                                 ...  \n",
       "499  [{'name': 'Börse München - Gettex', 'title': '...  \n",
       "500  [{'name': 'Börse München - Gettex', 'title': '...  \n",
       "501  [{'name': 'Börse München - Gettex', 'title': '...  \n",
       "502  [{'name': 'Börse München - Gettex', 'title': '...  \n",
       "503  [{'name': 'Börse München - Gettex', 'title': '...  \n",
       "\n",
       "[504 rows x 7 columns]"
      ]
     },
     "execution_count": 5,
     "metadata": {},
     "output_type": "execute_result"
    }
   ],
   "source": [
    "m.search_instrument(\"MSCI\")"
   ]
  },
  {
   "cell_type": "code",
   "execution_count": 6,
   "metadata": {},
   "outputs": [
    {
     "data": {
      "text/html": [
       "<div>\n",
       "<style scoped>\n",
       "    .dataframe tbody tr th:only-of-type {\n",
       "        vertical-align: middle;\n",
       "    }\n",
       "\n",
       "    .dataframe tbody tr th {\n",
       "        vertical-align: top;\n",
       "    }\n",
       "\n",
       "    .dataframe thead th {\n",
       "        text-align: right;\n",
       "    }\n",
       "</style>\n",
       "<table border=\"1\" class=\"dataframe\">\n",
       "  <thead>\n",
       "    <tr style=\"text-align: right;\">\n",
       "      <th></th>\n",
       "      <th>name</th>\n",
       "      <th>title</th>\n",
       "      <th>mic</th>\n",
       "      <th>is_open</th>\n",
       "      <th>opening_hours</th>\n",
       "      <th>opening_days</th>\n",
       "    </tr>\n",
       "  </thead>\n",
       "  <tbody>\n",
       "    <tr>\n",
       "      <th>0</th>\n",
       "      <td>Börse München - Gettex</td>\n",
       "      <td>Gettex</td>\n",
       "      <td>XMUN</td>\n",
       "      <td>False</td>\n",
       "      <td>{'start': '08:00', 'end': '22:00', 'timezone':...</td>\n",
       "      <td>[2021-11-29, 2021-11-30, 2021-12-01, 2021-12-0...</td>\n",
       "    </tr>\n",
       "    <tr>\n",
       "      <th>1</th>\n",
       "      <td>Börse München - LM Best Performance</td>\n",
       "      <td>LM Best Performance</td>\n",
       "      <td>LMBPX</td>\n",
       "      <td>False</td>\n",
       "      <td>{'start': '08:00', 'end': '22:00', 'timezone':...</td>\n",
       "      <td>[2021-11-29, 2021-11-30, 2021-12-01, 2021-12-0...</td>\n",
       "    </tr>\n",
       "  </tbody>\n",
       "</table>\n",
       "</div>"
      ],
      "text/plain": [
       "                                  name                title    mic  is_open  \\\n",
       "0               Börse München - Gettex               Gettex   XMUN    False   \n",
       "1  Börse München - LM Best Performance  LM Best Performance  LMBPX    False   \n",
       "\n",
       "                                       opening_hours  \\\n",
       "0  {'start': '08:00', 'end': '22:00', 'timezone':...   \n",
       "1  {'start': '08:00', 'end': '22:00', 'timezone':...   \n",
       "\n",
       "                                        opening_days  \n",
       "0  [2021-11-29, 2021-11-30, 2021-12-01, 2021-12-0...  \n",
       "1  [2021-11-29, 2021-11-30, 2021-12-01, 2021-12-0...  "
      ]
     },
     "execution_count": 6,
     "metadata": {},
     "output_type": "execute_result"
    }
   ],
   "source": [
    "m.trading_venues()"
   ]
  },
  {
   "cell_type": "code",
   "execution_count": 7,
   "metadata": {},
   "outputs": [
    {
     "name": "stdout",
     "output_type": "stream",
     "text": [
      "Collecting 248 results....\n"
     ]
    },
    {
     "data": {
      "text/html": [
       "<div>\n",
       "<style scoped>\n",
       "    .dataframe tbody tr th:only-of-type {\n",
       "        vertical-align: middle;\n",
       "    }\n",
       "\n",
       "    .dataframe tbody tr th {\n",
       "        vertical-align: top;\n",
       "    }\n",
       "\n",
       "    .dataframe thead th {\n",
       "        text-align: right;\n",
       "    }\n",
       "</style>\n",
       "<table border=\"1\" class=\"dataframe\">\n",
       "  <thead>\n",
       "    <tr style=\"text-align: right;\">\n",
       "      <th></th>\n",
       "      <th>isin</th>\n",
       "      <th>o</th>\n",
       "      <th>h</th>\n",
       "      <th>l</th>\n",
       "      <th>c</th>\n",
       "      <th>t</th>\n",
       "      <th>mic</th>\n",
       "    </tr>\n",
       "  </thead>\n",
       "  <tbody>\n",
       "    <tr>\n",
       "      <th>0</th>\n",
       "      <td>DE0005933931</td>\n",
       "      <td>133.60</td>\n",
       "      <td>133.66</td>\n",
       "      <td>133.46</td>\n",
       "      <td>133.60</td>\n",
       "      <td>2021-11-01T07:00:00.000+00:00</td>\n",
       "      <td>XMUN</td>\n",
       "    </tr>\n",
       "    <tr>\n",
       "      <th>1</th>\n",
       "      <td>DE0005933931</td>\n",
       "      <td>133.84</td>\n",
       "      <td>134.30</td>\n",
       "      <td>133.80</td>\n",
       "      <td>134.26</td>\n",
       "      <td>2021-11-01T08:00:00.000+00:00</td>\n",
       "      <td>XMUN</td>\n",
       "    </tr>\n",
       "    <tr>\n",
       "      <th>2</th>\n",
       "      <td>DE0005933931</td>\n",
       "      <td>134.26</td>\n",
       "      <td>134.40</td>\n",
       "      <td>134.20</td>\n",
       "      <td>134.20</td>\n",
       "      <td>2021-11-01T09:00:00.000+00:00</td>\n",
       "      <td>XMUN</td>\n",
       "    </tr>\n",
       "    <tr>\n",
       "      <th>3</th>\n",
       "      <td>DE0005933931</td>\n",
       "      <td>134.32</td>\n",
       "      <td>134.32</td>\n",
       "      <td>134.12</td>\n",
       "      <td>134.12</td>\n",
       "      <td>2021-11-01T10:00:00.000+00:00</td>\n",
       "      <td>XMUN</td>\n",
       "    </tr>\n",
       "    <tr>\n",
       "      <th>4</th>\n",
       "      <td>DE0005933931</td>\n",
       "      <td>134.12</td>\n",
       "      <td>134.12</td>\n",
       "      <td>133.96</td>\n",
       "      <td>134.10</td>\n",
       "      <td>2021-11-01T11:00:00.000+00:00</td>\n",
       "      <td>XMUN</td>\n",
       "    </tr>\n",
       "    <tr>\n",
       "      <th>...</th>\n",
       "      <td>...</td>\n",
       "      <td>...</td>\n",
       "      <td>...</td>\n",
       "      <td>...</td>\n",
       "      <td>...</td>\n",
       "      <td>...</td>\n",
       "      <td>...</td>\n",
       "    </tr>\n",
       "    <tr>\n",
       "      <th>243</th>\n",
       "      <td>DE0005933931</td>\n",
       "      <td>135.00</td>\n",
       "      <td>135.00</td>\n",
       "      <td>135.00</td>\n",
       "      <td>135.00</td>\n",
       "      <td>2021-11-25T15:00:00.000+00:00</td>\n",
       "      <td>XMUN</td>\n",
       "    </tr>\n",
       "    <tr>\n",
       "      <th>244</th>\n",
       "      <td>DE0005933931</td>\n",
       "      <td>134.94</td>\n",
       "      <td>135.04</td>\n",
       "      <td>134.94</td>\n",
       "      <td>135.04</td>\n",
       "      <td>2021-11-25T16:00:00.000+00:00</td>\n",
       "      <td>XMUN</td>\n",
       "    </tr>\n",
       "    <tr>\n",
       "      <th>245</th>\n",
       "      <td>DE0005933931</td>\n",
       "      <td>135.00</td>\n",
       "      <td>135.00</td>\n",
       "      <td>135.00</td>\n",
       "      <td>135.00</td>\n",
       "      <td>2021-11-25T17:00:00.000+00:00</td>\n",
       "      <td>XMUN</td>\n",
       "    </tr>\n",
       "    <tr>\n",
       "      <th>246</th>\n",
       "      <td>DE0005933931</td>\n",
       "      <td>134.94</td>\n",
       "      <td>134.94</td>\n",
       "      <td>134.94</td>\n",
       "      <td>134.94</td>\n",
       "      <td>2021-11-25T19:00:00.000+00:00</td>\n",
       "      <td>XMUN</td>\n",
       "    </tr>\n",
       "    <tr>\n",
       "      <th>247</th>\n",
       "      <td>DE0005933931</td>\n",
       "      <td>134.86</td>\n",
       "      <td>134.86</td>\n",
       "      <td>134.86</td>\n",
       "      <td>134.86</td>\n",
       "      <td>2021-11-25T20:00:00.000+00:00</td>\n",
       "      <td>XMUN</td>\n",
       "    </tr>\n",
       "  </tbody>\n",
       "</table>\n",
       "<p>248 rows × 7 columns</p>\n",
       "</div>"
      ],
      "text/plain": [
       "             isin       o       h       l       c  \\\n",
       "0    DE0005933931  133.60  133.66  133.46  133.60   \n",
       "1    DE0005933931  133.84  134.30  133.80  134.26   \n",
       "2    DE0005933931  134.26  134.40  134.20  134.20   \n",
       "3    DE0005933931  134.32  134.32  134.12  134.12   \n",
       "4    DE0005933931  134.12  134.12  133.96  134.10   \n",
       "..            ...     ...     ...     ...     ...   \n",
       "243  DE0005933931  135.00  135.00  135.00  135.00   \n",
       "244  DE0005933931  134.94  135.04  134.94  135.04   \n",
       "245  DE0005933931  135.00  135.00  135.00  135.00   \n",
       "246  DE0005933931  134.94  134.94  134.94  134.94   \n",
       "247  DE0005933931  134.86  134.86  134.86  134.86   \n",
       "\n",
       "                                 t   mic  \n",
       "0    2021-11-01T07:00:00.000+00:00  XMUN  \n",
       "1    2021-11-01T08:00:00.000+00:00  XMUN  \n",
       "2    2021-11-01T09:00:00.000+00:00  XMUN  \n",
       "3    2021-11-01T10:00:00.000+00:00  XMUN  \n",
       "4    2021-11-01T11:00:00.000+00:00  XMUN  \n",
       "..                             ...   ...  \n",
       "243  2021-11-25T15:00:00.000+00:00  XMUN  \n",
       "244  2021-11-25T16:00:00.000+00:00  XMUN  \n",
       "245  2021-11-25T17:00:00.000+00:00  XMUN  \n",
       "246  2021-11-25T19:00:00.000+00:00  XMUN  \n",
       "247  2021-11-25T20:00:00.000+00:00  XMUN  \n",
       "\n",
       "[248 rows x 7 columns]"
      ]
     },
     "execution_count": 7,
     "metadata": {},
     "output_type": "execute_result"
    }
   ],
   "source": [
    "m.ohlc(isin=\"DE0005933931\",timespan=\"h\", start=\"2021-11-01\",end=\"2021-11-26\")"
   ]
  },
  {
   "cell_type": "code",
   "execution_count": 8,
   "metadata": {},
   "outputs": [
    {
     "data": {
      "text/html": [
       "<div>\n",
       "<style scoped>\n",
       "    .dataframe tbody tr th:only-of-type {\n",
       "        vertical-align: middle;\n",
       "    }\n",
       "\n",
       "    .dataframe tbody tr th {\n",
       "        vertical-align: top;\n",
       "    }\n",
       "\n",
       "    .dataframe thead th {\n",
       "        text-align: right;\n",
       "    }\n",
       "</style>\n",
       "<table border=\"1\" class=\"dataframe\">\n",
       "  <thead>\n",
       "    <tr style=\"text-align: right;\">\n",
       "      <th></th>\n",
       "      <th>isin</th>\n",
       "      <th>b_v</th>\n",
       "      <th>a_v</th>\n",
       "      <th>b</th>\n",
       "      <th>a</th>\n",
       "      <th>t</th>\n",
       "      <th>mic</th>\n",
       "    </tr>\n",
       "  </thead>\n",
       "  <tbody>\n",
       "    <tr>\n",
       "      <th>0</th>\n",
       "      <td>DE0005933931</td>\n",
       "      <td>160</td>\n",
       "      <td>160</td>\n",
       "      <td>128.14</td>\n",
       "      <td>128.28</td>\n",
       "      <td>2021-11-26T20:59:55.000+00:00</td>\n",
       "      <td>XMUN</td>\n",
       "    </tr>\n",
       "  </tbody>\n",
       "</table>\n",
       "</div>"
      ],
      "text/plain": [
       "           isin  b_v  a_v       b       a                              t   mic\n",
       "0  DE0005933931  160  160  128.14  128.28  2021-11-26T20:59:55.000+00:00  XMUN"
      ]
     },
     "execution_count": 8,
     "metadata": {},
     "output_type": "execute_result"
    }
   ],
   "source": [
    "m.quotes(isin=\"DE0005933931\",mic=\"XMUN\")"
   ]
  },
  {
   "cell_type": "code",
   "execution_count": 9,
   "metadata": {},
   "outputs": [
    {
     "data": {
      "text/plain": [
       "[Space(Name: MasterStrategy, Buying_power: 500000000.0, Risk_limit: 500000000.0, Trading_type: paper,\n",
       " Space(Name: Default, Buying_power: 100000000.0, Risk_limit: 100000000.0, Trading_type: paper]"
      ]
     },
     "execution_count": 9,
     "metadata": {},
     "output_type": "execute_result"
    }
   ],
   "source": [
    "acc.spaces"
   ]
  },
  {
   "cell_type": "code",
   "execution_count": 10,
   "metadata": {},
   "outputs": [
    {
     "data": {
      "text/plain": [
       "[{'id': 'tx_pyPjRYYzz4zT2XRJkY8Scw4D3MpyGrRbmz',\n",
       "  'account_id': 'acc_pyPdVCCHHj7fX2RJKQWlpXVrSR2c7dcs6R',\n",
       "  'space_id': None,\n",
       "  'order_id': None,\n",
       "  'type': 'pay_out',\n",
       "  'amount': 10000000,\n",
       "  'isin': '',\n",
       "  'isin_title': None,\n",
       "  'created_at': '2021-11-27T13:19:40.155+00:00'},\n",
       " {'id': 'tx_pyPjRVVYYtSXql1NQqc9Y4dfMp87NjSjx2',\n",
       "  'account_id': 'acc_pyPdVCCHHj7fX2RJKQWlpXVrSR2c7dcs6R',\n",
       "  'space_id': None,\n",
       "  'order_id': None,\n",
       "  'type': 'pay_out',\n",
       "  'amount': 10000000,\n",
       "  'isin': '',\n",
       "  'isin_title': None,\n",
       "  'created_at': '2021-11-27T13:16:19.289+00:00'},\n",
       " {'id': 'bst_pyPdVDDJJR8BpTxxl5VVQQYGmrF1jgQpHW',\n",
       "  'account_id': 'acc_pyPdVCCHHj7fX2RJKQWlpXVrSR2c7dcs6R',\n",
       "  'space_id': None,\n",
       "  'order_id': None,\n",
       "  'type': 'pay_in',\n",
       "  'amount': 1000000000,\n",
       "  'isin': None,\n",
       "  'isin_title': None,\n",
       "  'created_at': '2021-11-22T00:00:00.000+00:00'}]"
      ]
     },
     "execution_count": 10,
     "metadata": {},
     "output_type": "execute_result"
    }
   ],
   "source": [
    "acc.transactions(type=\"paper\")"
   ]
  },
  {
   "cell_type": "code",
   "execution_count": 11,
   "metadata": {},
   "outputs": [
    {
     "data": {
      "text/plain": [
       "[{'id': 'ord_pyPjR0022NbYfVP7wFPwsBFh2ShqQfS0pM',\n",
       "  'isin': 'US19260Q1076',\n",
       "  'isin_title': 'COINBASE GLOBAL INC.',\n",
       "  'expires_at': '2021-11-27T22:59:00.000+00:00',\n",
       "  'created_at': '2021-11-27T13:41:42.679+00:00',\n",
       "  'side': 'buy',\n",
       "  'quantity': 1,\n",
       "  'stop_price': None,\n",
       "  'limit_price': None,\n",
       "  'estimated_price': 2670000,\n",
       "  'venue': 'xmun',\n",
       "  'status': 'expired',\n",
       "  'space_id': 'sp_pyPjRFF00YXFYCJL9w4CtmY0NYsTsSyG2S',\n",
       "  'type': 'market',\n",
       "  'executed_quantity': 0,\n",
       "  'executed_price': 0,\n",
       "  'activated_at': '2021-11-27T13:41:48.608+00:00',\n",
       "  'executed_at': None,\n",
       "  'rejected_at': None,\n",
       "  'notes': None},\n",
       " {'id': 'ord_pyPjQllDDj88b4pLKtpZzlJ8xXNyzg1Vly',\n",
       "  'isin': 'US19260Q1076',\n",
       "  'isin_title': 'COINBASE GLOBAL INC.',\n",
       "  'expires_at': '2021-11-27T22:59:00.000+00:00',\n",
       "  'created_at': '2021-11-27T12:29:53.339+00:00',\n",
       "  'side': 'buy',\n",
       "  'quantity': 1,\n",
       "  'stop_price': None,\n",
       "  'limit_price': None,\n",
       "  'estimated_price': 2670000,\n",
       "  'venue': 'xmun',\n",
       "  'status': 'expired',\n",
       "  'space_id': 'sp_pyPdVDDJJBrpLd26bdrK3syFpbjP5PSFWk',\n",
       "  'type': 'market',\n",
       "  'executed_quantity': 0,\n",
       "  'executed_price': 0,\n",
       "  'activated_at': '2021-11-27T12:30:23.854+00:00',\n",
       "  'executed_at': None,\n",
       "  'rejected_at': None,\n",
       "  'notes': None},\n",
       " {'id': 'ord_pyPjQbbwwrZGSxLZ9d8lZtyfYFGncBqDW3',\n",
       "  'isin': 'US19260Q1076',\n",
       "  'isin_title': 'COINBASE GLOBAL INC.',\n",
       "  'expires_at': '2021-11-27T22:59:00.000+00:00',\n",
       "  'created_at': '2021-11-27T12:21:36.881+00:00',\n",
       "  'side': 'buy',\n",
       "  'quantity': 1,\n",
       "  'stop_price': None,\n",
       "  'limit_price': None,\n",
       "  'estimated_price': None,\n",
       "  'venue': 'xmun',\n",
       "  'status': 'expired',\n",
       "  'space_id': 'sp_pyPdVDDJJBrpLd26bdrK3syFpbjP5PSFWk',\n",
       "  'type': 'market',\n",
       "  'executed_quantity': 0,\n",
       "  'executed_price': 0,\n",
       "  'activated_at': None,\n",
       "  'executed_at': None,\n",
       "  'rejected_at': None,\n",
       "  'notes': None},\n",
       " {'id': 'ord_pyPjPppffL2JGNTx0rPrTSmMKY3SNRlyzM',\n",
       "  'isin': 'US19260Q1076',\n",
       "  'isin_title': 'COINBASE GLOBAL INC.',\n",
       "  'expires_at': '2021-11-27T22:59:00.000+00:00',\n",
       "  'created_at': '2021-11-27T11:32:24.418+00:00',\n",
       "  'side': 'buy',\n",
       "  'quantity': 1,\n",
       "  'stop_price': None,\n",
       "  'limit_price': None,\n",
       "  'estimated_price': None,\n",
       "  'venue': 'xmun',\n",
       "  'status': 'expired',\n",
       "  'space_id': 'sp_pyPdVDDJJBrpLd26bdrK3syFpbjP5PSFWk',\n",
       "  'type': 'market',\n",
       "  'executed_quantity': 0,\n",
       "  'executed_price': 0,\n",
       "  'activated_at': None,\n",
       "  'executed_at': None,\n",
       "  'rejected_at': None,\n",
       "  'notes': None},\n",
       " {'id': 'ord_pyPjPnn775RX8HCr1jHWMrqwmDwPNwMD0D',\n",
       "  'isin': 'US19260Q1076',\n",
       "  'isin_title': 'COINBASE GLOBAL INC.',\n",
       "  'expires_at': '2021-11-27T22:59:00.000+00:00',\n",
       "  'created_at': '2021-11-27T11:31:48.291+00:00',\n",
       "  'side': 'buy',\n",
       "  'quantity': 1,\n",
       "  'stop_price': None,\n",
       "  'limit_price': None,\n",
       "  'estimated_price': None,\n",
       "  'venue': 'xmun',\n",
       "  'status': 'expired',\n",
       "  'space_id': 'sp_pyPdVDDJJBrpLd26bdrK3syFpbjP5PSFWk',\n",
       "  'type': 'market',\n",
       "  'executed_quantity': 0,\n",
       "  'executed_price': 0,\n",
       "  'activated_at': None,\n",
       "  'executed_at': None,\n",
       "  'rejected_at': None,\n",
       "  'notes': None},\n",
       " {'id': 'ord_pyPjPllggKfsXfqhPDd5NH5yWtpLzBF31F',\n",
       "  'isin': 'US19260Q1076',\n",
       "  'isin_title': 'COINBASE GLOBAL INC.',\n",
       "  'expires_at': '2021-11-27T22:59:00.000+00:00',\n",
       "  'created_at': '2021-11-27T11:29:25.446+00:00',\n",
       "  'side': 'buy',\n",
       "  'quantity': 1,\n",
       "  'stop_price': None,\n",
       "  'limit_price': None,\n",
       "  'estimated_price': None,\n",
       "  'venue': 'xmun',\n",
       "  'status': 'expired',\n",
       "  'space_id': 'sp_pyPdVDDJJBrpLd26bdrK3syFpbjP5PSFWk',\n",
       "  'type': 'market',\n",
       "  'executed_quantity': 0,\n",
       "  'executed_price': 0,\n",
       "  'activated_at': None,\n",
       "  'executed_at': None,\n",
       "  'rejected_at': None,\n",
       "  'notes': None},\n",
       " {'id': 'ord_pyPjPhhyysNXCXcStZsgkGXx8qrQDLXpQx',\n",
       "  'isin': 'US19260Q1076',\n",
       "  'isin_title': 'COINBASE GLOBAL INC.',\n",
       "  'expires_at': '2021-11-27T22:59:00.000+00:00',\n",
       "  'created_at': '2021-11-27T11:26:39.118+00:00',\n",
       "  'side': 'buy',\n",
       "  'quantity': 1,\n",
       "  'stop_price': None,\n",
       "  'limit_price': None,\n",
       "  'estimated_price': None,\n",
       "  'venue': 'xmun',\n",
       "  'status': 'expired',\n",
       "  'space_id': 'sp_pyPdVDDJJBrpLd26bdrK3syFpbjP5PSFWk',\n",
       "  'type': 'market',\n",
       "  'executed_quantity': 0,\n",
       "  'executed_price': 0,\n",
       "  'activated_at': None,\n",
       "  'executed_at': None,\n",
       "  'rejected_at': None,\n",
       "  'notes': None},\n",
       " {'id': 'ord_pyPjPbbhh8LKJJFMsgrY7lwlr3fSw2mBcK',\n",
       "  'isin': 'US19260Q1076',\n",
       "  'isin_title': 'COINBASE GLOBAL INC.',\n",
       "  'expires_at': '2021-11-27T22:59:00.000+00:00',\n",
       "  'created_at': '2021-11-27T11:21:25.779+00:00',\n",
       "  'side': 'buy',\n",
       "  'quantity': 1,\n",
       "  'stop_price': None,\n",
       "  'limit_price': None,\n",
       "  'estimated_price': None,\n",
       "  'venue': 'xmun',\n",
       "  'status': 'expired',\n",
       "  'space_id': 'sp_pyPdVDDJJBrpLd26bdrK3syFpbjP5PSFWk',\n",
       "  'type': 'market',\n",
       "  'executed_quantity': 0,\n",
       "  'executed_price': 0,\n",
       "  'activated_at': None,\n",
       "  'executed_at': None,\n",
       "  'rejected_at': None,\n",
       "  'notes': None},\n",
       " {'id': 'ord_pyPjPMMwwDwHdyNdqFQGSLVRCyNyws8XYZ',\n",
       "  'isin': 'US19260Q1076',\n",
       "  'isin_title': 'COINBASE GLOBAL INC.',\n",
       "  'expires_at': '2021-11-27T22:59:00.000+00:00',\n",
       "  'created_at': '2021-11-27T11:09:37.488+00:00',\n",
       "  'side': 'buy',\n",
       "  'quantity': 1,\n",
       "  'stop_price': None,\n",
       "  'limit_price': None,\n",
       "  'estimated_price': None,\n",
       "  'venue': 'xmun',\n",
       "  'status': 'expired',\n",
       "  'space_id': 'sp_pyPdVDDJJBrpLd26bdrK3syFpbjP5PSFWk',\n",
       "  'type': 'market',\n",
       "  'executed_quantity': 0,\n",
       "  'executed_price': 0,\n",
       "  'activated_at': None,\n",
       "  'executed_at': None,\n",
       "  'rejected_at': None,\n",
       "  'notes': None}]"
      ]
     },
     "execution_count": 11,
     "metadata": {},
     "output_type": "execute_result"
    }
   ],
   "source": [
    "acc.orders(type=\"paper\")"
   ]
  },
  {
   "cell_type": "code",
   "execution_count": 12,
   "metadata": {},
   "outputs": [
    {
     "data": {
      "text/plain": [
       "{'id': 'tx_pyPjRVVYYtSXql1NQqc9Y4dfMp87NjSjx2',\n",
       " 'account_id': 'acc_pyPdVCCHHj7fX2RJKQWlpXVrSR2c7dcs6R',\n",
       " 'space_id': None,\n",
       " 'order_id': None,\n",
       " 'type': 'pay_out',\n",
       " 'amount': 10000000,\n",
       " 'isin': '',\n",
       " 'isin_title': None,\n",
       " 'created_at': '2021-11-27T13:16:19.289+00:00'}"
      ]
     },
     "execution_count": 12,
     "metadata": {},
     "output_type": "execute_result"
    }
   ],
   "source": [
    "acc.transaction(tx_id=\"tx_pyPjRVVYYtSXql1NQqc9Y4dfMp87NjSjx2\",type=\"paper\")"
   ]
  },
  {
   "cell_type": "code",
   "execution_count": 13,
   "metadata": {},
   "outputs": [
    {
     "data": {
      "text/plain": [
       "{}"
      ]
     },
     "execution_count": 13,
     "metadata": {},
     "output_type": "execute_result"
    }
   ],
   "source": [
    "acc.portfolio(type=\"paper\")"
   ]
  },
  {
   "cell_type": "code",
   "execution_count": 14,
   "metadata": {},
   "outputs": [
    {
     "data": {
      "text/plain": [
       "'sp_pyPjRFF00YXFYCJL9w4CtmY0NYsTsSyG2S'"
      ]
     },
     "execution_count": 14,
     "metadata": {},
     "output_type": "execute_result"
    }
   ],
   "source": [
    "space = acc.space_by_name(\"MasterStrategy\")[0]\n",
    "space._uuid"
   ]
  },
  {
   "cell_type": "code",
   "execution_count": 15,
   "metadata": {},
   "outputs": [],
   "source": [
    "\n",
    "ord = Order(space_id=space._uuid, isin=\"US19260Q1076\",quantity=1,side=\"buy\",venue=\"XMUN\",expired_at=\"p2d\")"
   ]
  },
  {
   "cell_type": "code",
   "execution_count": 16,
   "metadata": {},
   "outputs": [
    {
     "data": {
      "text/plain": [
       "'ok'"
      ]
     },
     "execution_count": 16,
     "metadata": {},
     "output_type": "execute_result"
    }
   ],
   "source": [
    "ord.activate()"
   ]
  },
  {
   "cell_type": "code",
   "execution_count": 17,
   "metadata": {},
   "outputs": [
    {
     "data": {
      "text/plain": [
       "'ok'"
      ]
     },
     "execution_count": 17,
     "metadata": {},
     "output_type": "execute_result"
    }
   ],
   "source": [
    "acc.edit_space(space_id=space._uuid, name=\"MasterStrategy\")"
   ]
  },
  {
   "cell_type": "code",
   "execution_count": 18,
   "metadata": {},
   "outputs": [
    {
     "data": {
      "text/plain": [
       "'Failed'"
      ]
     },
     "execution_count": 18,
     "metadata": {},
     "output_type": "execute_result"
    }
   ],
   "source": [
    "acc.delete_space(space._uuid)"
   ]
  },
  {
   "cell_type": "code",
   "execution_count": 19,
   "metadata": {},
   "outputs": [
    {
     "data": {
      "text/plain": [
       "'No documents found!'"
      ]
     },
     "execution_count": 19,
     "metadata": {},
     "output_type": "execute_result"
    }
   ],
   "source": [
    "acc.documents()"
   ]
  }
 ],
 "metadata": {
  "interpreter": {
   "hash": "20ac32bddbba6e25d6de857542f2e1051702e9bd13fa47c41a2237cc9301ca57"
  },
  "kernelspec": {
   "display_name": "Python 3.7.5 64-bit ('.venv': poetry)",
   "name": "python3"
  },
  "language_info": {
   "codemirror_mode": {
    "name": "ipython",
    "version": 3
   },
   "file_extension": ".py",
   "mimetype": "text/x-python",
   "name": "python",
   "nbconvert_exporter": "python",
   "pygments_lexer": "ipython3",
   "version": "3.7.5"
  },
  "metadata": {
   "interpreter": {
    "hash": "c1b2645507ccf887673856c1dcfdec577f1ffa1a450a86e0e9b6458b0b3aa62c"
   }
  },
  "orig_nbformat": 2
 },
 "nbformat": 4,
 "nbformat_minor": 2
}
